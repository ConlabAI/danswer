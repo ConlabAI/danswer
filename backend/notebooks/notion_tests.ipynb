{
 "cells": [
  {
   "cell_type": "markdown",
   "metadata": {},
   "source": [
    "### Используем НОРМАЛЬНЫЙ апи клиент, который по хорошему надо бы интегрировать в дансвер"
   ]
  },
  {
   "cell_type": "code",
   "execution_count": 1,
   "metadata": {},
   "outputs": [],
   "source": [
    "import os\n",
    "from dotenv import load_dotenv\n",
    "load_dotenv()\n",
    "NOTION_API_KEY = os.getenv(\"NOTION_API_KEY\")\n",
    "NOTION_ROOT_ID = os.getenv(\"NOTION_ROOT_ID\")\n",
    "NOTION_DATABASE_ID = os.getenv(\"NOTION_DATABASE_ID\")"
   ]
  },
  {
   "cell_type": "code",
   "execution_count": 2,
   "metadata": {},
   "outputs": [],
   "source": [
    "from notion_client import Client, AsyncClient\n",
    "\n",
    "# Initialize a client with the integration token\n",
    "notion = Client(auth=NOTION_API_KEY)\n"
   ]
  },
  {
   "cell_type": "code",
   "execution_count": 3,
   "metadata": {},
   "outputs": [
    {
     "name": "stdout",
     "output_type": "stream",
     "text": [
      "{'title': {'id': 'title', 'type': 'title', 'title': [{'type': 'text', 'text': {'content': 'Франция | Гайд по иммиграции и интеграции', 'link': None}, 'annotations': {'bold': False, 'italic': False, 'strikethrough': False, 'underline': False, 'code': False, 'color': 'default'}, 'plain_text': 'Франция | Гайд по иммиграции и интеграции', 'href': None}]}}\n"
     ]
    }
   ],
   "source": [
    "page_id = NOTION_ROOT_ID\n",
    "\n",
    "# Retrieve the page\n",
    "page = notion.pages.retrieve(page_id=page_id)\n",
    "\n",
    "# Print page properties\n",
    "print(page[\"properties\"])\n"
   ]
  },
  {
   "cell_type": "code",
   "execution_count": 4,
   "metadata": {},
   "outputs": [],
   "source": [
    "\n",
    "pages = notion.databases.query(database_id=NOTION_DATABASE_ID) # корретно влзвращает и страницы и теги, но нужно не проморгать пагинацию (has_more и next_cursor)"
   ]
  },
  {
   "cell_type": "code",
   "execution_count": 5,
   "metadata": {},
   "outputs": [],
   "source": [
    "page = pages['results'][1]"
   ]
  },
  {
   "cell_type": "code",
   "execution_count": 6,
   "metadata": {},
   "outputs": [],
   "source": [
    "tag_groups = {}\n",
    "for page in pages['results']:\n",
    "    for property in page['properties']:\n",
    "        if page['properties'][property]['type'] in [\"select\", \"multi_select\"]:\n",
    "            if not property in tag_groups:\n",
    "                tag_groups[property] = set()\n",
    "            info = page['properties'][property]\n",
    "            if info['type'] == 'select':\n",
    "                tag_groups[property].add(info['select']['name'])\n",
    "            else:\n",
    "                tag_groups[property].update([x['name'] for x in info['multi_select']])\n",
    "\n"
   ]
  },
  {
   "cell_type": "code",
   "execution_count": 7,
   "metadata": {},
   "outputs": [],
   "source": [
    "remove_list_for_tags = [\n",
    "    \"115\",\n",
    "    \"18-25\",\n",
    "    \"AMELI\",\n",
    "    \"API\",\n",
    "    \"APL\",\n",
    "    \"APS\",\n",
    "    \"CADA\",\n",
    "    \"CAF\",\n",
    "    \"CIR\",\n",
    "    \"CPAM\",\n",
    "    \"CROUS\",\n",
    "    \"CSS\",\n",
    "    \"CVEC\",\n",
    "    \"CritAir\",\n",
    "    \"EHPAD\",\n",
    "    \"FSL\",\n",
    "    \"HUDA\",\n",
    "    \"MDPH\",\n",
    "    \"OFII\",\n",
    "    \"OFPRA\",\n",
    "    \"OMC\",\n",
    "    \"PACS\",\n",
    "    \"PASS\",\n",
    "    \"PUMa\",\n",
    "    \"RSA\",\n",
    "    \"SPADA\",\n",
    "    \"VAE\",\n",
    "    \"VAPP\",\n",
    "    \"VES\",\n",
    "    \"ZAPI\",\n",
    "    \"asso\",\n",
    "]"
   ]
  },
  {
   "cell_type": "code",
   "execution_count": 8,
   "metadata": {},
   "outputs": [],
   "source": [
    "tag_groups['Tags'] = tag_groups['Tags'] - set(remove_list_for_tags)"
   ]
  },
  {
   "cell_type": "code",
   "execution_count": 9,
   "metadata": {},
   "outputs": [
    {
     "data": {
      "text/plain": [
       "{'Tags': {'LGBTQIA+',\n",
       "  'PhD',\n",
       "  'entrepreneur',\n",
       "  'mutuelle',\n",
       "  'service civique',\n",
       "  'urgence',\n",
       "  'visa C',\n",
       "  'visa D',\n",
       "  'ВНЖ',\n",
       "  'ДМС',\n",
       "  'Дублин',\n",
       "  'НКО',\n",
       "  'Скорая',\n",
       "  'Украина',\n",
       "  'аборт',\n",
       "  'адвокат',\n",
       "  'административная прописка',\n",
       "  'апостиль',\n",
       "  'аренда',\n",
       "  'аспирантура',\n",
       "  'ассо',\n",
       "  'банк',\n",
       "  'банк Франции',\n",
       "  'барахолки',\n",
       "  'беженство',\n",
       "  'беженцы',\n",
       "  'библиотека',\n",
       "  'бизнес-план',\n",
       "  'брак',\n",
       "  'братство',\n",
       "  'вакцинация',\n",
       "  'валидация навыков',\n",
       "  'водительские права',\n",
       "  'воссоединение семьи',\n",
       "  'временная защита',\n",
       "  'временное жилье',\n",
       "  'выборы',\n",
       "  'гарант',\n",
       "  'гражданская служба',\n",
       "  'граница',\n",
       "  'декларация',\n",
       "  'дети',\n",
       "  'детский сад',\n",
       "  'доверенность',\n",
       "  'документы',\n",
       "  'долгосрочные визы',\n",
       "  'дом престарелых',\n",
       "  'досье арендатора',\n",
       "  'еда',\n",
       "  'женералист',\n",
       "  'женщины',\n",
       "  'животные',\n",
       "  'жилье',\n",
       "  'завершение контракта',\n",
       "  'запрос убежища',\n",
       "  'заселение',\n",
       "  'зима',\n",
       "  'изучение французского языка',\n",
       "  'иммиграция',\n",
       "  'иммиграция во Францию',\n",
       "  'имущество',\n",
       "  'инвалидность',\n",
       "  'иностранные счета',\n",
       "  'интеграция',\n",
       "  'красный крест',\n",
       "  'краткосрочные визы',\n",
       "  'криптовалюта',\n",
       "  'лагерь',\n",
       "  'лайфхак',\n",
       "  'лето',\n",
       "  'лечащий врач',\n",
       "  'машина',\n",
       "  'медицинский диплом',\n",
       "  'ментальное здоровье',\n",
       "  'мобилизация',\n",
       "  'налоги',\n",
       "  'не во Франции',\n",
       "  'нелегал',\n",
       "  'нотариус',\n",
       "  'няня',\n",
       "  'опасность',\n",
       "  'отдых',\n",
       "  'отказ в банке',\n",
       "  'открытие счета',\n",
       "  'отопление',\n",
       "  'пенсия',\n",
       "  'перевод документов',\n",
       "  'перевозка вещей',\n",
       "  'переезд',\n",
       "  'переезд во Францию',\n",
       "  'переезд с ребенком',\n",
       "  'подтверждение диплома врача',\n",
       "  'поиск жилья',\n",
       "  'поиск работы',\n",
       "  'покупка',\n",
       "  'помощь',\n",
       "  'пособия',\n",
       "  'посольство',\n",
       "  'почта',\n",
       "  'права женщин',\n",
       "  'права пожилых людей',\n",
       "  'правозащитные организации',\n",
       "  'прайд',\n",
       "  'префектура',\n",
       "  'присяжный переводчик',\n",
       "  'проездной документ',\n",
       "  'просители убежища',\n",
       "  'психиатр',\n",
       "  'психолог',\n",
       "  'работа',\n",
       "  'равенство',\n",
       "  'развод',\n",
       "  'разрешение на работу',\n",
       "  'регистрация',\n",
       "  'резидент',\n",
       "  'релокация',\n",
       "  'релокация во Францию',\n",
       "  'ресеписе',\n",
       "  'республика',\n",
       "  'ресто',\n",
       "  'рождение ребенка',\n",
       "  'русский язык',\n",
       "  'самозанятый',\n",
       "  'свадьба',\n",
       "  'свобода',\n",
       "  'секонд',\n",
       "  'секурс католик',\n",
       "  'семья',\n",
       "  'сеньоры',\n",
       "  'солидарность',\n",
       "  'солидарный доход',\n",
       "  'социальное жилье',\n",
       "  'социальный приют',\n",
       "  'срочная помощь',\n",
       "  'стажировка',\n",
       "  'стипендия',\n",
       "  'страховка',\n",
       "  'страховка машины',\n",
       "  'студент',\n",
       "  'субсидиарная защита',\n",
       "  'таможня',\n",
       "  'телефон',\n",
       "  'техосмотр',\n",
       "  'титр',\n",
       "  'убежище',\n",
       "  'учеба',\n",
       "  'феминизм',\n",
       "  'феминитивы',\n",
       "  'финансы',\n",
       "  'фискальная марка',\n",
       "  'фонд жилищной солидарности',\n",
       "  'чип',\n",
       "  'школа',\n",
       "  'эвакуация',\n",
       "  'экология',\n",
       "  'эмиграция',\n",
       "  'юридическая помощь',\n",
       "  'ясли'},\n",
       " 'Select': {'Если вы в Украине | Беларуси | России', 'Если вы во Франции'},\n",
       " 'Multiselect': {'Бизнес',\n",
       "  'Бюрократия',\n",
       "  'Визы во Франции',\n",
       "  'Дети',\n",
       "  'Жилье',\n",
       "  'Инклюзивность',\n",
       "  'Лайфхаки',\n",
       "  'Машина',\n",
       "  'Медицинская помощь',\n",
       "  'Международная защита',\n",
       "  'Подготовка к эмиграции',\n",
       "  'Принятие решения',\n",
       "  'Работа',\n",
       "  'Семейная жизнь',\n",
       "  'Социальная помощь',\n",
       "  'Учеба',\n",
       "  'Финансы'}}"
      ]
     },
     "execution_count": 9,
     "metadata": {},
     "output_type": "execute_result"
    }
   ],
   "source": [
    "tag_groups"
   ]
  },
  {
   "cell_type": "code",
   "execution_count": 11,
   "metadata": {},
   "outputs": [],
   "source": [
    "# not transform to this format {\"dtags\" : [{\"tag_key\": \"Tags\", \"all_possible_tag_values\" : [\"равенство\",\"женералист\"]}]}\n",
    "tag_groups_formatted = [{\"tag_key\": key, \"all_possible_tag_values\": list(value)} for key, value in tag_groups.items()]"
   ]
  },
  {
   "cell_type": "code",
   "execution_count": 12,
   "metadata": {},
   "outputs": [],
   "source": [
    "# dump to single string json compact as possible\n",
    "import json\n",
    "tag_groups_formatted_json = json.dumps({\"dtags\":tag_groups_formatted}, separators=(',', ':'), ensure_ascii=False)\n",
    "with open('tag_groups.json', 'w') as f:\n",
    "    f.write(tag_groups_formatted_json)"
   ]
  },
  {
   "cell_type": "code",
   "execution_count": null,
   "metadata": {},
   "outputs": [],
   "source": [
    "page['properties']['Select']['select']['name']"
   ]
  },
  {
   "cell_type": "code",
   "execution_count": null,
   "metadata": {},
   "outputs": [],
   "source": [
    "page[\"url\"]"
   ]
  },
  {
   "cell_type": "code",
   "execution_count": null,
   "metadata": {},
   "outputs": [],
   "source": [
    "page[\"properties\"][\"URL\"][\"url\"]"
   ]
  },
  {
   "cell_type": "code",
   "execution_count": null,
   "metadata": {},
   "outputs": [],
   "source": [
    "id_to_tags = {}\n",
    "for page in pages['results']:\n",
    "    ms_dicts = page['properties']['Tags']['multi_select']\n",
    "    tag_names = [tag[\"name\"] for tag in ms_dicts]\n",
    "    id_to_tags[page['id']] = tag_names"
   ]
  },
  {
   "cell_type": "code",
   "execution_count": null,
   "metadata": {},
   "outputs": [],
   "source": [
    "id_to_tags[\"f2b1db66-7b1d-4e1d-8c4c-3c8ceb481511\"]"
   ]
  },
  {
   "cell_type": "code",
   "execution_count": null,
   "metadata": {},
   "outputs": [],
   "source": [
    "notion.pages.retrieve(page_id=database_id)"
   ]
  },
  {
   "cell_type": "code",
   "execution_count": null,
   "metadata": {},
   "outputs": [],
   "source": [
    "has_more : bool = pages[\"has_more\"]\n",
    "cursor : str = pages[\"next_cursor\"]"
   ]
  },
  {
   "cell_type": "code",
   "execution_count": null,
   "metadata": {},
   "outputs": [],
   "source": [
    "pages['next_cursor']"
   ]
  },
  {
   "cell_type": "code",
   "execution_count": null,
   "metadata": {},
   "outputs": [],
   "source": [
    "database_id = NOTION_DATABASE_ID\n",
    "notion.databases.retrieve(database_id=database_id)"
   ]
  },
  {
   "cell_type": "code",
   "execution_count": null,
   "metadata": {},
   "outputs": [],
   "source": [
    "def retrieve_blocks(page_id):\n",
    "    all_blocks = []\n",
    "    start_cursor = None\n",
    "    while True:\n",
    "        response = notion.blocks.children.list(block_id=page_id, start_cursor=start_cursor)\n",
    "        blocks = response.get(\"results\", [])\n",
    "        all_blocks.extend(blocks)\n",
    "        if not response.get(\"has_more\", False):\n",
    "            break\n",
    "        start_cursor = response.get(\"next_cursor\", None)\n",
    "    return all_blocks\n",
    "\n",
    "root_page_id = \"a283ff3a46804b39b50e29c566369c2f\"\n",
    "\n",
    "# Retrieve blocks from the root page\n",
    "blocks = retrieve_blocks(root_page_id)\n",
    "visited_ids = set()\n",
    "\n",
    "def retrieve_all_blocks(blocks, level=0):\n",
    "    all_blocks = []\n",
    "    for block in blocks:\n",
    "        if block[\"id\"] not in visited_ids:\n",
    "            #print(\"  \" * level + block[\"type\"], block.get(\"id\", \"\"))\n",
    "            all_blocks.append(block)\n",
    "            visited_ids.add(block[\"id\"])\n",
    "            if block.get(\"has_children\", False):\n",
    "                child_blocks = retrieve_blocks(block[\"id\"])\n",
    "                new_blocks = retrieve_all_blocks(child_blocks, level + 1)\n",
    "                all_blocks.extend(new_blocks) if new_blocks else None\n",
    "    return all_blocks\n",
    "\n",
    "# Start retrieving all nested blocks\n",
    "all_blocks = retrieve_all_blocks(blocks)\n"
   ]
  },
  {
   "cell_type": "code",
   "execution_count": null,
   "metadata": {},
   "outputs": [],
   "source": [
    "for i, block in enumerate(all_blocks):\n",
    "    if \"https://www.defenseurdesdroits.fr/carte-des-delegues\" in str(block):\n",
    "        print(block)\n",
    "        print(i)\n"
   ]
  },
  {
   "cell_type": "code",
   "execution_count": null,
   "metadata": {},
   "outputs": [],
   "source": [
    "print(all_blocks[131])"
   ]
  },
  {
   "cell_type": "markdown",
   "metadata": {},
   "source": [
    "### Используем то что уже зашито в дасвер, чтобы ничего не сломать"
   ]
  },
  {
   "cell_type": "code",
   "execution_count": null,
   "metadata": {},
   "outputs": [],
   "source": [
    "import os\n",
    "from dotenv import load_dotenv\n",
    "load_dotenv()\n",
    "NOTION_API_KEY = os.getenv(\"NOTION_API_KEY\")\n",
    "NOTION_ROOT_ID = os.getenv(\"NOTION_ROOT_ID\")\n",
    "NOTION_DATABASE_ID = os.getenv(\"NOTION_DATABASE_ID\")"
   ]
  },
  {
   "cell_type": "code",
   "execution_count": null,
   "metadata": {},
   "outputs": [],
   "source": [
    "from danswer.connectors.notion.connector import NotionConnector"
   ]
  },
  {
   "cell_type": "code",
   "execution_count": null,
   "metadata": {},
   "outputs": [],
   "source": [
    "t1 = {\"a\" : 5, \"b\" : 3}\n",
    "t2 = {\"a\" : None, \"b\" : None}\n",
    "#{**t2,**t1}\n",
    "t2.update(t1)\n",
    "t2"
   ]
  },
  {
   "cell_type": "code",
   "execution_count": null,
   "metadata": {},
   "outputs": [],
   "source": []
  },
  {
   "cell_type": "code",
   "execution_count": null,
   "metadata": {},
   "outputs": [],
   "source": [
    "#connector = NotionConnector(root_page_id=\"f2c93c208bd345038ef7e99f9db7b23e\") # just one page here\n",
    "connector = NotionConnector(root_page_id=NOTION_DATABASE_ID) # database with pages and tags\n",
    "connector.load_credentials({\"notion_integration_token\": NOTION_API_KEY})\n",
    "connector.is_db"
   ]
  },
  {
   "cell_type": "code",
   "execution_count": null,
   "metadata": {},
   "outputs": [],
   "source": [
    "out = [_ for _ in connector.load_from_state()]"
   ]
  },
  {
   "cell_type": "code",
   "execution_count": null,
   "metadata": {},
   "outputs": [],
   "source": [
    "pages = [connector._fetch_page(\"a283ff3a46804b39b50e29c566369c2f\")]"
   ]
  },
  {
   "cell_type": "code",
   "execution_count": null,
   "metadata": {},
   "outputs": [],
   "source": [
    "parsed_pages = []\n",
    "for parsed_page in connector._read_pages(pages):\n",
    "    parsed_pages.append(parsed_page)"
   ]
  },
  {
   "cell_type": "code",
   "execution_count": null,
   "metadata": {},
   "outputs": [],
   "source": [
    "for section in parsed_pages[0]:\n",
    "    print(section)"
   ]
  },
  {
   "cell_type": "code",
   "execution_count": null,
   "metadata": {},
   "outputs": [],
   "source": []
  }
 ],
 "metadata": {
  "kernelspec": {
   "display_name": ".venv",
   "language": "python",
   "name": "python3"
  },
  "language_info": {
   "codemirror_mode": {
    "name": "ipython",
    "version": 3
   },
   "file_extension": ".py",
   "mimetype": "text/x-python",
   "name": "python",
   "nbconvert_exporter": "python",
   "pygments_lexer": "ipython3",
   "version": "3.11.9"
  }
 },
 "nbformat": 4,
 "nbformat_minor": 2
}
