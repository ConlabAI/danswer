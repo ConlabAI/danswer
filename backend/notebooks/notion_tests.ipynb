{
 "cells": [
  {
   "cell_type": "markdown",
   "metadata": {},
   "source": [
    "### Используем НОРМАЛЬНЫЙ апи клиент, который по хорошему надо бы интегрировать в дансвер"
   ]
  },
  {
   "cell_type": "code",
   "execution_count": null,
   "metadata": {},
   "outputs": [],
   "source": [
    "import os\n",
    "from dotenv import load_dotenv\n",
    "load_dotenv()\n",
    "NOTION_API_KEY = os.getenv(\"NOTION_API_KEY\")\n",
    "NOTION_ROOT_ID = os.getenv(\"NOTION_ROOT_ID\")\n",
    "NOTION_DATABASE_ID = os.getenv(\"NOTION_DATABASE_ID\")"
   ]
  },
  {
   "cell_type": "code",
   "execution_count": null,
   "metadata": {},
   "outputs": [],
   "source": [
    "from notion_client import Client, AsyncClient\n",
    "\n",
    "# Initialize a client with the integration token\n",
    "notion = Client(auth=NOTION_API_KEY)\n"
   ]
  },
  {
   "cell_type": "code",
   "execution_count": null,
   "metadata": {},
   "outputs": [],
   "source": [
    "page_id = NOTION_ROOT_ID\n",
    "\n",
    "# Retrieve the page\n",
    "page = notion.pages.retrieve(page_id=page_id)\n",
    "\n",
    "# Print page properties\n",
    "print(page[\"properties\"])\n"
   ]
  },
  {
   "cell_type": "code",
   "execution_count": null,
   "metadata": {},
   "outputs": [],
   "source": [
    "\n",
    "pages = notion.databases.query(database_id=NOTION_DATABASE_ID) # корретно влзвращает и страницы и теги, но нужно не проморгать пагинацию (has_more и next_cursor)"
   ]
  },
  {
   "cell_type": "code",
   "execution_count": null,
   "metadata": {},
   "outputs": [],
   "source": [
    "page = pages['results'][1]"
   ]
  },
  {
   "cell_type": "code",
   "execution_count": null,
   "metadata": {},
   "outputs": [],
   "source": [
    "page['properties']['Tags']['multi_select']"
   ]
  },
  {
   "cell_type": "code",
   "execution_count": null,
   "metadata": {},
   "outputs": [],
   "source": [
    "notion.pages.retrieve(page_id=database_id)"
   ]
  },
  {
   "cell_type": "code",
   "execution_count": null,
   "metadata": {},
   "outputs": [],
   "source": [
    "has_more : bool = pages[\"has_more\"]\n",
    "cursor : str = pages[\"next_cursor\"]"
   ]
  },
  {
   "cell_type": "code",
   "execution_count": null,
   "metadata": {},
   "outputs": [],
   "source": [
    "pages['next_cursor']"
   ]
  },
  {
   "cell_type": "code",
   "execution_count": null,
   "metadata": {},
   "outputs": [],
   "source": [
    "database_id = NOTION_DATABASE_ID\n",
    "notion.databases.retrieve(database_id=database_id)"
   ]
  },
  {
   "cell_type": "code",
   "execution_count": null,
   "metadata": {},
   "outputs": [],
   "source": [
    "def retrieve_blocks(page_id):\n",
    "    all_blocks = []\n",
    "    start_cursor = None\n",
    "    while True:\n",
    "        response = notion.blocks.children.list(block_id=page_id, start_cursor=start_cursor)\n",
    "        blocks = response.get(\"results\", [])\n",
    "        all_blocks.extend(blocks)\n",
    "        if not response.get(\"has_more\", False):\n",
    "            break\n",
    "        start_cursor = response.get(\"next_cursor\", None)\n",
    "    return all_blocks\n",
    "\n",
    "root_page_id = \"a283ff3a46804b39b50e29c566369c2f\"\n",
    "\n",
    "# Retrieve blocks from the root page\n",
    "blocks = retrieve_blocks(root_page_id)\n",
    "visited_ids = set()\n",
    "\n",
    "def retrieve_all_blocks(blocks, level=0):\n",
    "    all_blocks = []\n",
    "    for block in blocks:\n",
    "        if block[\"id\"] not in visited_ids:\n",
    "            #print(\"  \" * level + block[\"type\"], block.get(\"id\", \"\"))\n",
    "            all_blocks.append(block)\n",
    "            visited_ids.add(block[\"id\"])\n",
    "            if block.get(\"has_children\", False):\n",
    "                child_blocks = retrieve_blocks(block[\"id\"])\n",
    "                new_blocks = retrieve_all_blocks(child_blocks, level + 1)\n",
    "                all_blocks.extend(new_blocks) if new_blocks else None\n",
    "    return all_blocks\n",
    "\n",
    "# Start retrieving all nested blocks\n",
    "all_blocks = retrieve_all_blocks(blocks)\n"
   ]
  },
  {
   "cell_type": "code",
   "execution_count": null,
   "metadata": {},
   "outputs": [],
   "source": [
    "for i, block in enumerate(all_blocks):\n",
    "    if \"https://www.defenseurdesdroits.fr/carte-des-delegues\" in str(block):\n",
    "        print(block)\n",
    "        print(i)\n"
   ]
  },
  {
   "cell_type": "code",
   "execution_count": null,
   "metadata": {},
   "outputs": [],
   "source": [
    "print(all_blocks[131])"
   ]
  },
  {
   "cell_type": "markdown",
   "metadata": {},
   "source": [
    "### Используем то что уже зашито в дасвер, чтобы ничего не сломать"
   ]
  },
  {
   "cell_type": "code",
   "execution_count": null,
   "metadata": {},
   "outputs": [],
   "source": [
    "import os\n",
    "from dotenv import load_dotenv\n",
    "load_dotenv()\n",
    "NOTION_API_KEY = os.getenv(\"NOTION_API_KEY\")\n",
    "NOTION_ROOT_ID = os.getenv(\"NOTION_ROOT_ID\")\n",
    "NOTION_DATABASE_ID = os.getenv(\"NOTION_DATABASE_ID\")"
   ]
  },
  {
   "cell_type": "code",
   "execution_count": null,
   "metadata": {},
   "outputs": [],
   "source": [
    "from danswer.connectors.notion.connector import NotionConnector"
   ]
  },
  {
   "cell_type": "code",
   "execution_count": null,
   "metadata": {},
   "outputs": [],
   "source": [
    "connector = NotionConnector(root_page_id=\"f2c93c208bd345038ef7e99f9db7b23e\") # just one page here\n",
    "#connector = NotionConnector(root_page_id=NOTION_DATABASE_ID) # database with pages and tags\n",
    "connector.load_credentials({\"notion_integration_token\": NOTION_API_KEY})\n",
    "connector.is_db"
   ]
  },
  {
   "cell_type": "code",
   "execution_count": null,
   "metadata": {},
   "outputs": [],
   "source": [
    "out = [_ for _ in connector.load_from_state()]"
   ]
  },
  {
   "cell_type": "code",
   "execution_count": null,
   "metadata": {},
   "outputs": [],
   "source": [
    "pages = [connector._fetch_page(\"a283ff3a46804b39b50e29c566369c2f\")]"
   ]
  },
  {
   "cell_type": "code",
   "execution_count": null,
   "metadata": {},
   "outputs": [],
   "source": [
    "parsed_pages = []\n",
    "for parsed_page in connector._read_pages(pages):\n",
    "    parsed_pages.append(parsed_page)"
   ]
  },
  {
   "cell_type": "code",
   "execution_count": null,
   "metadata": {},
   "outputs": [],
   "source": [
    "for section in parsed_pages[0]:\n",
    "    print(section)"
   ]
  },
  {
   "cell_type": "code",
   "execution_count": null,
   "metadata": {},
   "outputs": [],
   "source": []
  }
 ],
 "metadata": {
  "kernelspec": {
   "display_name": ".venv",
   "language": "python",
   "name": "python3"
  },
  "language_info": {
   "codemirror_mode": {
    "name": "ipython",
    "version": 3
   },
   "file_extension": ".py",
   "mimetype": "text/x-python",
   "name": "python",
   "nbconvert_exporter": "python",
   "pygments_lexer": "ipython3",
   "version": "3.11.9"
  }
 },
 "nbformat": 4,
 "nbformat_minor": 2
}
